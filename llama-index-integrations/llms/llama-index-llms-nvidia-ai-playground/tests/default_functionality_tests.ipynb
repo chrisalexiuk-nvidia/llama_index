{
 "cells": [
  {
   "cell_type": "code",
   "execution_count": null,
   "metadata": {},
   "outputs": [],
   "source": [
    "!pip install llama-index\n",
    "!pip install llama-index-core\n",
    "!pip install llama-index-embeddings-openai"
   ]
  },
  {
   "cell_type": "code",
   "execution_count": 2,
   "metadata": {},
   "outputs": [],
   "source": [
    "# llama-parse is async-first, running the async code in a notebook requires the use of nest_asyncio\n",
    "import nest_asyncio\n",
    "nest_asyncio.apply()\n",
    "\n",
    "import os\n",
    "\n",
    "# Using OpenAI API for embeddings\n",
    "os.environ[\"OPENAI_API_KEY\"] = \"sk-\"\n",
    "\n",
    "# Using NVIDIA API Playground API Key for LLM\n",
    "os.environ[\"NVIDIA_AI_PLAYGROUND_API_KEY\"] = \"nvapi-\""
   ]
  },
  {
   "cell_type": "code",
   "execution_count": 3,
   "metadata": {},
   "outputs": [],
   "source": [
    "from llama_index.llms.nvidia_ai_playground import NvidiaAIPlayground\n",
    "from llama_index.embeddings.openai import OpenAIEmbedding\n",
    "from llama_index.core import VectorStoreIndex\n",
    "from llama_index.core import Settings\n",
    "\n",
    "embed_model=OpenAIEmbedding(model=\"text-embedding-3-small\")\n",
    "llm = NvidiaAIPlayground(model=\"playground_steerlm_llama_70b\")\n",
    "\n",
    "Settings.llm = llm\n",
    "Settings.embed_model = embed_model"
   ]
  },
  {
   "cell_type": "code",
   "execution_count": 4,
   "metadata": {},
   "outputs": [],
   "source": [
    "from llama_index.core import VectorStoreIndex, SimpleDirectoryReader\n",
    "\n",
    "documents = SimpleDirectoryReader(\"data\").load_data()\n",
    "index = VectorStoreIndex.from_documents(documents)"
   ]
  },
  {
   "cell_type": "markdown",
   "metadata": {},
   "source": [
    "### Basic Functionality"
   ]
  },
  {
   "cell_type": "code",
   "execution_count": 11,
   "metadata": {},
   "outputs": [],
   "source": [
    "from llama_index.core.llms import ChatMessage, MessageRole\n",
    "\n",
    "chat_messages = [\n",
    "    ChatMessage(\n",
    "        role=MessageRole.SYSTEM,\n",
    "        content=(\n",
    "            \"You are a helpful assistant.\"\n",
    "        )\n",
    "    ),\n",
    "    ChatMessage(\n",
    "        role=MessageRole.USER,\n",
    "        content=(\n",
    "            \"How do I get to Paris from London?\"\n",
    "        )\n",
    "    ),\n",
    "]"
   ]
  },
  {
   "cell_type": "markdown",
   "metadata": {},
   "source": [
    "#### Complete"
   ]
  },
  {
   "cell_type": "code",
   "execution_count": 14,
   "metadata": {},
   "outputs": [
    {
     "data": {
      "text/plain": [
       "CompletionResponse(text=\"Hello! I'm an AI language model developed by Open Assistant, I can assist you with various questions on a wide range of topics including but not limited to:\\n\\nGeneral knowledge: I can answer questions about history, geography, science, literature, and many other subjects.\\n\\nMathematics: I can help with basic math problems, as well as more advanced topics like algebra, geometry, and calculus.\\n\\nProgramming: I can assist with programming concepts, syntax, and code debugging in a variety of programming languages.\\n\\nTechnology: I can provide information and assistance with various technologies, including computers, smartphones, and the internet.\\n\\nHealth and wellness: I can provide information about exercise, nutrition, and general health topics.\\n\\nRemember, I'm just a language model, I don't have the ability to perceive or feel, I don't have personal experiences or emotions. But I will do my best to assist you with any questions or information you need. Just type your question and I will do my best to help you.\", additional_kwargs={}, raw={'id': 'f0f5b24c-9f1c-411d-a841-99d9654ac090', 'choices': [Choice(finish_reason='stop', index=0, logprobs=None, message=ChatCompletionMessage(content=\"Hello! I'm an AI language model developed by Open Assistant, I can assist you with various questions on a wide range of topics including but not limited to:\\n\\nGeneral knowledge: I can answer questions about history, geography, science, literature, and many other subjects.\\n\\nMathematics: I can help with basic math problems, as well as more advanced topics like algebra, geometry, and calculus.\\n\\nProgramming: I can assist with programming concepts, syntax, and code debugging in a variety of programming languages.\\n\\nTechnology: I can provide information and assistance with various technologies, including computers, smartphones, and the internet.\\n\\nHealth and wellness: I can provide information about exercise, nutrition, and general health topics.\\n\\nRemember, I'm just a language model, I don't have the ability to perceive or feel, I don't have personal experiences or emotions. But I will do my best to assist you with any questions or information you need. Just type your question and I will do my best to help you.\", role='assistant', function_call=None, tool_calls=None, name=None, labels={'creativity': 0, 'verbosity': 9, 'complexity': 9}))], 'created': None, 'model': None, 'object': None, 'system_fingerprint': None, 'usage': CompletionUsage(completion_tokens=232, prompt_tokens=117, total_tokens=349)}, delta=None)"
      ]
     },
     "execution_count": 14,
     "metadata": {},
     "output_type": "execute_result"
    }
   ],
   "source": [
    "llm.complete(\"Hello!\")"
   ]
  },
  {
   "cell_type": "markdown",
   "metadata": {},
   "source": [
    "#### Chat"
   ]
  },
  {
   "cell_type": "code",
   "execution_count": 12,
   "metadata": {},
   "outputs": [
    {
     "data": {
      "text/plain": [
       "ChatResponse(message=ChatMessage(role=<MessageRole.ASSISTANT: 'assistant'>, content='There are several ways to get to Paris from London, including:\\n\\n1. Plane: The quickest and most convenient way to get to Paris from London is by plane. There are several direct flights from London to Paris, and the flight time is around 1 hour.\\n\\n2. Train: You can take the Eurostar train from London St. Pancras International to Paris Gare du Nord. The journey takes around 2 hours and 15 minutes.\\n\\n3. Bus: There are several bus companies that offer direct bus services from London to Paris. The journey takes around 8-10 hours, depending on traffic and other factors.\\n\\n4. Car: You can drive from London to Paris, but keep in mind that you will need to cross the English Channel by ferry or through the Eurotunnel. The drive takes around 6-7 hours, depending on traffic and other factors.\\n\\n5. Coach: National Express operates coach services from London Victoria Coach Station to Paris Gallieni. The journey takes around 8-9 hours, depending on traffic and other factors.\\n\\nYou can choose the option that best suits your needs and preferences, considering factors such as cost, time, and convenience.', additional_kwargs={}), raw={'id': '780e4a4c-d451-41b7-9362-986e128bc073', 'choices': [Choice(finish_reason='stop', index=0, logprobs=None, message=ChatCompletionMessage(content='There are several ways to get to Paris from London, including:\\n\\n1. Plane: The quickest and most convenient way to get to Paris from London is by plane. There are several direct flights from London to Paris, and the flight time is around 1 hour.\\n\\n2. Train: You can take the Eurostar train from London St. Pancras International to Paris Gare du Nord. The journey takes around 2 hours and 15 minutes.\\n\\n3. Bus: There are several bus companies that offer direct bus services from London to Paris. The journey takes around 8-10 hours, depending on traffic and other factors.\\n\\n4. Car: You can drive from London to Paris, but keep in mind that you will need to cross the English Channel by ferry or through the Eurotunnel. The drive takes around 6-7 hours, depending on traffic and other factors.\\n\\n5. Coach: National Express operates coach services from London Victoria Coach Station to Paris Gallieni. The journey takes around 8-9 hours, depending on traffic and other factors.\\n\\nYou can choose the option that best suits your needs and preferences, considering factors such as cost, time, and convenience.', role='assistant', function_call=None, tool_calls=None, name=None, labels={'creativity': 0, 'verbosity': 9, 'complexity': 9}))], 'created': None, 'model': None, 'object': None, 'system_fingerprint': None, 'usage': CompletionUsage(completion_tokens=263, prompt_tokens=100, total_tokens=363)}, delta=None, additional_kwargs={})"
      ]
     },
     "execution_count": 12,
     "metadata": {},
     "output_type": "execute_result"
    }
   ],
   "source": [
    "llm.chat(chat_messages)"
   ]
  },
  {
   "cell_type": "markdown",
   "metadata": {},
   "source": [
    "#### Stream"
   ]
  },
  {
   "cell_type": "code",
   "execution_count": 19,
   "metadata": {},
   "outputs": [],
   "source": [
    "streamed_response = llm.stream_chat(chat_messages)"
   ]
  },
  {
   "cell_type": "code",
   "execution_count": 24,
   "metadata": {},
   "outputs": [
    {
     "data": {
      "text/plain": [
       "<generator object llm_chat_callback.<locals>.wrap.<locals>.wrapped_llm_chat.<locals>.wrapped_gen at 0x7f957eaae240>"
      ]
     },
     "execution_count": 24,
     "metadata": {},
     "output_type": "execute_result"
    }
   ],
   "source": [
    "streamed_response"
   ]
  },
  {
   "cell_type": "markdown",
   "metadata": {},
   "source": [
    "### Change Models"
   ]
  },
  {
   "cell_type": "code",
   "execution_count": 36,
   "metadata": {},
   "outputs": [],
   "source": [
    "llm = NvidiaAIPlayground(model=\"playground_llama2_70b\")"
   ]
  },
  {
   "cell_type": "markdown",
   "metadata": {},
   "source": [
    "#### Async Complete"
   ]
  },
  {
   "cell_type": "code",
   "execution_count": 37,
   "metadata": {},
   "outputs": [
    {
     "data": {
      "text/plain": [
       "CompletionResponse(text=\"Hello! It's nice to meet you. Is there something I can help you with or would you like to chat for a bit?\", additional_kwargs={}, raw={'id': '66e79211-2fb3-4992-989c-3eea1373902d', 'choices': [Choice(finish_reason='stop', index=0, logprobs=None, message=ChatCompletionMessage(content=\"Hello! It's nice to meet you. Is there something I can help you with or would you like to chat for a bit?\", role='assistant', function_call=None, tool_calls=None))], 'created': None, 'model': None, 'object': None, 'system_fingerprint': None, 'usage': CompletionUsage(completion_tokens=28, prompt_tokens=11, total_tokens=39)}, delta=None)"
      ]
     },
     "execution_count": 37,
     "metadata": {},
     "output_type": "execute_result"
    }
   ],
   "source": [
    "await llm.acomplete(\"Hello there!\")"
   ]
  },
  {
   "cell_type": "markdown",
   "metadata": {},
   "source": [
    "### Change Models\n"
   ]
  },
  {
   "cell_type": "code",
   "execution_count": 38,
   "metadata": {},
   "outputs": [],
   "source": [
    "llm = NvidiaAIPlayground(model=\"playground_mixtral_8x7b\")"
   ]
  },
  {
   "cell_type": "markdown",
   "metadata": {},
   "source": [
    "#### Async Chat"
   ]
  },
  {
   "cell_type": "code",
   "execution_count": 39,
   "metadata": {},
   "outputs": [
    {
     "data": {
      "text/plain": [
       "ChatResponse(message=ChatMessage(role=<MessageRole.ASSISTANT: 'assistant'>, content='There are several ways to get from London to Paris:\\n\\n1. **By Eurostar Train**: This is the fastest and most convenient way to travel between the two cities. The Eurostar train departs from St Pancras International Station in London and arrives at Gare du Nord in Paris. The journey takes approximately 2 hours and 15 minutes.\\n\\n2. **By Plane**: There are numerous flights between London and Paris every day. The flight duration is about 1 hour, but you need to add time for getting to and from the airports, security checks, and baggage claim. The major airports in London are Heathrow, Gatwick, Stansted, and Luton, and in Paris, they are Charles de Gaulle and Orly.\\n\\n3. **By Bus**: This is the cheapest but slowest option. Buses depart from Victoria Coach Station in London and arrive at Gallieni Porte de Bagnolet in Paris. The journey can take up to 8 hours, depending on traffic.\\n\\n4. **By Car**: If you prefer to drive, you can take a ferry or the Channel Tunnel (also known as the Chunnel) to cross the English Channel. The total journey time, including the ferry or Chunnel ride, is approximately 6-7 hours, depending on traffic and the exact locations of departure and arrival.\\n\\nRemember to check the travel restrictions and requirements due to COVID-19 before planning your trip.', additional_kwargs={}), raw={'id': '28264251-fb1e-4ec4-90bb-1b79c0a227cc', 'choices': [Choice(finish_reason='stop', index=0, logprobs=None, message=ChatCompletionMessage(content='There are several ways to get from London to Paris:\\n\\n1. **By Eurostar Train**: This is the fastest and most convenient way to travel between the two cities. The Eurostar train departs from St Pancras International Station in London and arrives at Gare du Nord in Paris. The journey takes approximately 2 hours and 15 minutes.\\n\\n2. **By Plane**: There are numerous flights between London and Paris every day. The flight duration is about 1 hour, but you need to add time for getting to and from the airports, security checks, and baggage claim. The major airports in London are Heathrow, Gatwick, Stansted, and Luton, and in Paris, they are Charles de Gaulle and Orly.\\n\\n3. **By Bus**: This is the cheapest but slowest option. Buses depart from Victoria Coach Station in London and arrive at Gallieni Porte de Bagnolet in Paris. The journey can take up to 8 hours, depending on traffic.\\n\\n4. **By Car**: If you prefer to drive, you can take a ferry or the Channel Tunnel (also known as the Chunnel) to cross the English Channel. The total journey time, including the ferry or Chunnel ride, is approximately 6-7 hours, depending on traffic and the exact locations of departure and arrival.\\n\\nRemember to check the travel restrictions and requirements due to COVID-19 before planning your trip.', role='assistant', function_call=None, tool_calls=None))], 'created': None, 'model': None, 'object': None, 'system_fingerprint': None, 'usage': CompletionUsage(completion_tokens=315, prompt_tokens=24, total_tokens=339)}, delta=None, additional_kwargs={})"
      ]
     },
     "execution_count": 39,
     "metadata": {},
     "output_type": "execute_result"
    }
   ],
   "source": [
    "await llm.achat(chat_messages)"
   ]
  },
  {
   "cell_type": "markdown",
   "metadata": {},
   "source": [
    "### Change Models"
   ]
  },
  {
   "cell_type": "code",
   "execution_count": 65,
   "metadata": {},
   "outputs": [],
   "source": [
    "llm = NvidiaAIPlayground(model=\"playground_steerlm_llama_70b\")"
   ]
  },
  {
   "cell_type": "markdown",
   "metadata": {},
   "source": [
    "#### Async Stream"
   ]
  },
  {
   "cell_type": "code",
   "execution_count": 66,
   "metadata": {},
   "outputs": [
    {
     "data": {
      "text/plain": [
       "<async_generator object llm_chat_callback.<locals>.wrap.<locals>.wrapped_async_llm_chat.<locals>.wrapped_gen at 0x7f957c65e240>"
      ]
     },
     "execution_count": 66,
     "metadata": {},
     "output_type": "execute_result"
    }
   ],
   "source": [
    "await llm.astream_chat(chat_messages)"
   ]
  },
  {
   "cell_type": "markdown",
   "metadata": {},
   "source": [
    "### Streaming Query Engine Responses"
   ]
  },
  {
   "cell_type": "code",
   "execution_count": 5,
   "metadata": {},
   "outputs": [],
   "source": [
    "streaming_qe = index.as_query_engine(streaming=True)"
   ]
  },
  {
   "cell_type": "code",
   "execution_count": 6,
   "metadata": {},
   "outputs": [],
   "source": [
    "streaming_response = streaming_qe.query(\n",
    "    \"What did the author do growing up?\",\n",
    ")"
   ]
  },
  {
   "cell_type": "code",
   "execution_count": 7,
   "metadata": {},
   "outputs": [
    {
     "name": "stdout",
     "output_type": "stream",
     "text": [
      "Douglas Adams, the author of \"The Hitchhiker's Guide to the Galaxy,\" grew up in Cambridge, England. He was born in 1952 and attended Brentwood School, where he was known for his wit and humor.\n",
      "\n",
      "As a child, Adams was interested in science fiction and comedy, and he was a fan of the radio comedy show \"The Goon Show.\" He also enjoyed playing the piano and writing short stories.\n",
      "\n",
      "After leaving school, Adams attended St. John's College, Cambridge, where he studied English literature. During his time at university, he became involved in the Cambridge Footlights, a student comedy group, and began writing and performing in sketches and revues.\n",
      "\n",
      "After graduating from Cambridge, Adams worked as a radio scriptwriter and performer, and he continued to write and perform comedy. He also wrote for television, including for the popular comedy show \"Monty Python's Flying Circus.\"\n",
      "\n",
      "In the late 1970s, Adams began working on \"The Hitchhiker's Guide to the Galaxy,\" which was originally a radio comedy series. The series was a huge success and was later adapted into a series of novels, as well as a television series, a movie, and various other media.\n",
      "\n",
      "Throughout his life, Adams continued to write and perform comedy, and he was known for his unique blend of science fiction, humor, and social commentary. He passed away in 2001 at the age of 49."
     ]
    }
   ],
   "source": [
    "streaming_response.print_response_stream()"
   ]
  }
 ],
 "metadata": {
  "kernelspec": {
   "display_name": "nvidia-llama-index-playground-connector",
   "language": "python",
   "name": "python3"
  },
  "language_info": {
   "codemirror_mode": {
    "name": "ipython",
    "version": 3
   },
   "file_extension": ".py",
   "mimetype": "text/x-python",
   "name": "python",
   "nbconvert_exporter": "python",
   "pygments_lexer": "ipython3",
   "version": "3.11.8"
  }
 },
 "nbformat": 4,
 "nbformat_minor": 2
}
