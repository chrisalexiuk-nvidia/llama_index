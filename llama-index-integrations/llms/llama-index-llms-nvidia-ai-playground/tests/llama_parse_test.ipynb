{
 "cells": [
  {
   "cell_type": "code",
   "execution_count": null,
   "metadata": {},
   "outputs": [],
   "source": [
    "!pip install llama-index\n",
    "!pip install llama-index-core\n",
    "!pip install llama-index-embeddings-openai\n",
    "!pip install llama-index-postprocessor-flag-embedding-reranker\n",
    "!pip install git+https://github.com/FlagOpen/FlagEmbedding.git\n",
    "!pip install llama-parse"
   ]
  },
  {
   "cell_type": "code",
   "execution_count": 3,
   "metadata": {},
   "outputs": [
    {
     "name": "stdout",
     "output_type": "stream",
     "text": [
      "--2024-03-18 12:49:08--  https://raw.githubusercontent.com/run-llama/llama_index/main/docs/examples/data/10q/uber_10q_march_2022.pdf\n",
      "Loaded CA certificate '/etc/ssl/certs/ca-certificates.crt'\n",
      "Resolving raw.githubusercontent.com (raw.githubusercontent.com)... 185.199.108.133, 185.199.109.133, 185.199.110.133, ...\n",
      "Connecting to raw.githubusercontent.com (raw.githubusercontent.com)|185.199.108.133|:443... connected.\n",
      "HTTP request sent, awaiting response... 200 OK\n",
      "Length: 1260185 (1.2M) [application/octet-stream]\n",
      "Saving to: ‘./uber_10q_march_2022.pdf’\n",
      "\n",
      "./uber_10q_march_20 100%[===================>]   1.20M  --.-KB/s    in 0.006s  \n",
      "\n",
      "2024-03-18 12:49:08 (191 MB/s) - ‘./uber_10q_march_2022.pdf’ saved [1260185/1260185]\n",
      "\n"
     ]
    }
   ],
   "source": [
    "!wget 'https://raw.githubusercontent.com/run-llama/llama_index/main/docs/examples/data/10q/uber_10q_march_2022.pdf' -O './uber_10q_march_2022.pdf'"
   ]
  },
  {
   "cell_type": "code",
   "execution_count": 4,
   "metadata": {},
   "outputs": [],
   "source": [
    "# llama-parse is async-first, running the async code in a notebook requires the use of nest_asyncio\n",
    "import nest_asyncio\n",
    "nest_asyncio.apply()\n",
    "\n",
    "import os\n",
    "# API access to llama-cloud\n",
    "os.environ[\"LLAMA_CLOUD_API_KEY\"] = \"llx-\"\n",
    "\n",
    "# Using OpenAI API for embeddings\n",
    "os.environ[\"OPENAI_API_KEY\"] = \"sk-\"\n",
    "\n",
    "# Using NVIDIA API Playground API Key for LLM\n",
    "os.environ[\"NVIDIA_AI_PLAYGROUND_API_KEY\"] = \"nvapi-\""
   ]
  },
  {
   "cell_type": "code",
   "execution_count": 5,
   "metadata": {},
   "outputs": [],
   "source": [
    "from llama_index.llms.nvidia_ai_playground import NvidiaAIPlayground\n",
    "from llama_index.embeddings.openai import OpenAIEmbedding\n",
    "from llama_index.core import VectorStoreIndex\n",
    "from llama_index.core import Settings\n",
    "\n",
    "embed_model=OpenAIEmbedding(model=\"text-embedding-3-small\")\n",
    "llm = NvidiaAIPlayground()\n",
    "\n",
    "Settings.llm = llm\n",
    "Settings.embed_model = embed_model"
   ]
  },
  {
   "cell_type": "code",
   "execution_count": null,
   "metadata": {},
   "outputs": [],
   "source": [
    "from llama_parse import LlamaParse\n",
    "\n",
    "documents = LlamaParse(result_type=\"markdown\").load_data('./uber_10q_march_2022.pdf')"
   ]
  },
  {
   "cell_type": "code",
   "execution_count": 7,
   "metadata": {},
   "outputs": [
    {
     "name": "stdout",
     "output_type": "stream",
     "text": [
      "# Document\n",
      "\n",
      "# UNITED STATES SECURITIES AND EXCHANGE COMMISSION Washington, D.C. 20549 FORM 10-Q\n",
      "\n",
      "(Mark One)\n",
      "\n",
      "☒ QUARTERLY REPORT PURSUANT TO SECTION 13 OR 15(d) OF THE SECURITIES EXCHANGE ACT OF 1934 For the quarterly period\n",
      "ended March 31, 2022 OR ☐ TRANSITION REPORT PURSUANT TO SECTION 13 OR 15(d) OF THE SECURITIES EXCHANGE ACT OF 1934\n",
      "For the transition period from_____ to _____ Commission File Number: 001-38902 UBER TECHNOLOGIES, INC. (Exact name\n",
      "of registrant as specified in its charter) Not Applicable (Former name, former address and former fiscal year, if\n",
      "changed since last report) Delaware 45-2647441 (State or other jurisdiction of incorporation or organization) (I.R.S.\n",
      "Employer Identification No.) 1515 3rd Street San Francisco, California 94158 (Address of principal executive offices,\n",
      "including zip code) (415) 612-8582 (Registrant’s telephone number, including area code) Securities registered\n",
      "pursuant to Section 12(b) of the Act: Title of each class Trading Symbol(s) Name of ea...\n"
     ]
    }
   ],
   "source": [
    "print(documents[0].text[:1000] + '...')"
   ]
  },
  {
   "cell_type": "code",
   "execution_count": 8,
   "metadata": {},
   "outputs": [],
   "source": [
    "from llama_index.core.node_parser import MarkdownElementNodeParser\n",
    "from llama_index.llms.openai import OpenAI\n",
    "\n",
    "node_parser = MarkdownElementNodeParser(llm=OpenAI(model=\"gpt-3.5-turbo-0125\"), num_workers=8)"
   ]
  },
  {
   "cell_type": "code",
   "execution_count": 9,
   "metadata": {},
   "outputs": [
    {
     "name": "stdout",
     "output_type": "stream",
     "text": [
      "Embeddings have been explicitly disabled. Using MockEmbedding.\n"
     ]
    },
    {
     "name": "stderr",
     "output_type": "stream",
     "text": [
      "75it [00:00, 70579.49it/s]\n",
      "100%|██████████| 75/75 [00:22<00:00,  3.28it/s]\n"
     ]
    }
   ],
   "source": [
    "nodes = node_parser.get_nodes_from_documents(documents)"
   ]
  },
  {
   "cell_type": "code",
   "execution_count": 10,
   "metadata": {},
   "outputs": [],
   "source": [
    "base_nodes, objects = node_parser.get_nodes_and_objects(nodes)"
   ]
  },
  {
   "cell_type": "code",
   "execution_count": 11,
   "metadata": {},
   "outputs": [],
   "source": [
    "recursive_index = VectorStoreIndex(nodes=base_nodes+objects)\n",
    "raw_index = VectorStoreIndex.from_documents(documents)"
   ]
  },
  {
   "cell_type": "code",
   "execution_count": 12,
   "metadata": {},
   "outputs": [],
   "source": [
    "from llama_index.postprocessor.flag_embedding_reranker import FlagEmbeddingReranker\n",
    "\n",
    "reranker = FlagEmbeddingReranker(\n",
    "    top_n=5,\n",
    "    model=\"BAAI/bge-reranker-large\",\n",
    ")\n",
    "\n",
    "recursive_query_engine = recursive_index.as_query_engine(\n",
    "    similarity_top_k=15, \n",
    "    node_postprocessors=[reranker], \n",
    "    verbose=True\n",
    ")\n",
    "\n",
    "raw_query_engine = raw_index.as_query_engine(similarity_top_k=15, node_postprocessors=[reranker])"
   ]
  },
  {
   "cell_type": "code",
   "execution_count": 13,
   "metadata": {},
   "outputs": [
    {
     "name": "stdout",
     "output_type": "stream",
     "text": [
      "291\n"
     ]
    }
   ],
   "source": [
    "print(len(nodes))"
   ]
  },
  {
   "cell_type": "code",
   "execution_count": 14,
   "metadata": {},
   "outputs": [
    {
     "name": "stdout",
     "output_type": "stream",
     "text": [
      "\n",
      "***********New LlamaParse+ Basic Query Engine***********\n",
      "Cash paid for income taxes, net of refunds from Supplemental disclosures of cash flow information:\n",
      "\n",
      "Income taxes are a significant expense for most businesses, and the amount of cash paid for income taxes can vary significantly from period to period. The supplemental disclosures of cash flow information in the context of the provided financial statements provide important information related to non-cash investing and financing activities, but do not provide any information related to cash paid for income taxes.\n",
      "\n",
      "To assess the Company's operating performance and ability to generate cash flows, investors and management should focus on the primary measure of cash flow provided by (used in) operating activities, which is a key measure provided in the financial statements. This measure represents the amount of cash that is generated from the Company's core business operations, and is used to fund investments in the business, pay dividends, and repay debt.\n",
      "\n",
      "In addition to cash flow from operations, other key measures used by management and investors to assess the Company's operating performance include revenue, gross profit, operating expenses, operating income, net income, and earnings per share. These measures are used to evaluate the Company's ability to generate revenue and profit from its core business operations, and to manage its expenses and investments in order to maximize profitability.\n",
      "\n",
      "Overall, the supplemental disclosures of cash flow information in the context of the provided financial statements provide important information related to non-cash investing and financing activities, but do not provide any information related to cash paid for income taxes. To assess the Company's operating performance and ability to generate cash flows, investors and management should focus on the primary measure of cash flow provided by (used in) operating activities, which is a key measure provided in the financial statements.\n",
      "\u001b[1;3;38;2;11;159;203mRetrieval entering id_10ed55c8-2211-4f31-b2ed-8e4274261820_28_table: TextNode\n",
      "\u001b[0m\u001b[1;3;38;2;237;90;200mRetrieving from object TextNode with query how is the Cash paid for Income taxes, net of refunds from Supplemental disclosures of cash flow information?\n",
      "\u001b[0m\u001b[1;3;38;2;11;159;203mRetrieval entering id_10ed55c8-2211-4f31-b2ed-8e4274261820_24_table: TextNode\n",
      "\u001b[0m\u001b[1;3;38;2;237;90;200mRetrieving from object TextNode with query how is the Cash paid for Income taxes, net of refunds from Supplemental disclosures of cash flow information?\n",
      "\u001b[0m\u001b[1;3;38;2;11;159;203mRetrieval entering id_10ed55c8-2211-4f31-b2ed-8e4274261820_26_table: TextNode\n",
      "\u001b[0m\u001b[1;3;38;2;237;90;200mRetrieving from object TextNode with query how is the Cash paid for Income taxes, net of refunds from Supplemental disclosures of cash flow information?\n",
      "\u001b[0m\u001b[1;3;38;2;11;159;203mRetrieval entering id_10ed55c8-2211-4f31-b2ed-8e4274261820_318_table: TextNode\n",
      "\u001b[0m\u001b[1;3;38;2;237;90;200mRetrieving from object TextNode with query how is the Cash paid for Income taxes, net of refunds from Supplemental disclosures of cash flow information?\n",
      "\u001b[0m\u001b[1;3;38;2;11;159;203mRetrieval entering id_10ed55c8-2211-4f31-b2ed-8e4274261820_322_table: TextNode\n",
      "\u001b[0m\u001b[1;3;38;2;237;90;200mRetrieving from object TextNode with query how is the Cash paid for Income taxes, net of refunds from Supplemental disclosures of cash flow information?\n",
      "\u001b[0m\n",
      "***********New LlamaParse+ Recursive Retriever Query Engine***********\n",
      "Based on the new context, the answer to the query \"how is the Right-of-use assets obtained in exchange for lease obligations from Supplemental disclosures of cash flow information?\" would be as follows:\n",
      "\n",
      "|Three Months Ended March 31,|2021|2022|\n",
      "|---|---|---|\n",
      "|Right-of-use assets obtained in exchange for lease obligations|$(45)|$1|\n",
      "\n",
      "In this case, the new context provides additional information about the condensed consolidated financial statements included in Part I, Item 1, of this Quarterly Report on Form 10-Q. The right-of-use assets obtained in exchange for lease obligations represents the difference between the carrying amount of the lease liability and the right-of-use asset recognized for operating leases. This information is provided in the notes to the condensed consolidated financial statements to provide additional details about the Company's lease obligations and the impact on its financial statements.\n",
      "\n",
      "In general, a right-of-use asset represents the present value of the future lease payments that the lessee will make over the lease term, while the lease liability represents the present value of the remaining lease payments that the lessee is obligated to make. The right-of-use assets obtained in exchange for lease obligations represents the excess of the right-of-use asset over the lease liability, which is recognized as a result of the Company's adoption of Accounting Standards Codification (ASC) 842, Leases, on January 1, 2022.\n",
      "\n",
      "The Company's adoption of ASC 842 resulted in the recognition of lease liabilities and right-of-use assets for its operating leases, which are included in current liabilities and non-current liabilities, respectively, in the condensed consolidated balance sheet. The right-of-use assets obtained in exchange for lease obligations are recognized in other assets in the condensed consolidated balance sheet.\n",
      "\n",
      "The Company's right-of-use assets obtained in exchange for lease obligations are primarily related to its operating leases for office space, equipment, and vehicles. The Company's lease liabilities are primarily related to its operating leases for office space and equipment.\n",
      "\n",
      "The Company's right-of-use assets obtained in exchange for lease obligations are amortized on a straight-line basis over the lease term, while the lease liabilities are accreted to the carrying amount of the lease liability at the end of the lease term.\n",
      "\n",
      "The\n"
     ]
    }
   ],
   "source": [
    "query = \"how is the Cash paid for Income taxes, net of refunds from Supplemental disclosures of cash flow information?\"\n",
    "\n",
    "response_1 = raw_query_engine.query(query)\n",
    "print(\"\\n***********New LlamaParse+ Basic Query Engine***********\")\n",
    "print(response_1)\n",
    "\n",
    "response_2 = recursive_query_engine.query(query)\n",
    "print(\"\\n***********New LlamaParse+ Recursive Retriever Query Engine***********\")\n",
    "print(response_2)"
   ]
  }
 ],
 "metadata": {
  "kernelspec": {
   "display_name": "nvidia-llama-index-playground-connector",
   "language": "python",
   "name": "python3"
  },
  "language_info": {
   "codemirror_mode": {
    "name": "ipython",
    "version": 3
   },
   "file_extension": ".py",
   "mimetype": "text/x-python",
   "name": "python",
   "nbconvert_exporter": "python",
   "pygments_lexer": "ipython3",
   "version": "3.11.8"
  }
 },
 "nbformat": 4,
 "nbformat_minor": 2
}
