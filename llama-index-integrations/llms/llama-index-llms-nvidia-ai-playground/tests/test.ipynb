{
 "cells": [
  {
   "cell_type": "code",
   "execution_count": null,
   "metadata": {},
   "outputs": [],
   "source": [
    "!pip install llama-index\n",
    "!pip install llama-index-core\n",
    "!pip install llama-index-embeddings-openai"
   ]
  },
  {
   "cell_type": "code",
   "execution_count": 14,
   "metadata": {},
   "outputs": [],
   "source": [
    "# llama-parse is async-first, running the async code in a notebook requires the use of nest_asyncio\n",
    "import nest_asyncio\n",
    "nest_asyncio.apply()\n",
    "\n",
    "import os\n",
    "\n",
    "# Using OpenAI API for embeddings\n",
    "os.environ[\"OPENAI_API_KEY\"] = \"sk-\"\n",
    "\n",
    "# Using NVIDIA API Playground API Key for LLM\n",
    "os.environ[\"NVIDIA_AI_PLAYGROUND_API_KEY\"] = \"nvapi-\""
   ]
  },
  {
   "cell_type": "code",
   "execution_count": 15,
   "metadata": {},
   "outputs": [],
   "source": [
    "from llama_index.llms.nvidia_ai_playground import NvidiaAIPlayground\n",
    "from llama_index.embeddings.openai import OpenAIEmbedding\n",
    "from llama_index.core import VectorStoreIndex\n",
    "from llama_index.core import Settings\n",
    "\n",
    "embed_model=OpenAIEmbedding(model=\"text-embedding-3-small\")\n",
    "llm = NvidiaAIPlayground(model=\"playground_steerlm_llama_70b\")\n",
    "\n",
    "Settings.llm = llm\n",
    "Settings.embed_model = embed_model"
   ]
  },
  {
   "cell_type": "code",
   "execution_count": 16,
   "metadata": {},
   "outputs": [
    {
     "name": "stderr",
     "output_type": "stream",
     "text": [
      "/home/chris/anaconda3/envs/nvidia-llama-index-playground-connector/lib/python3.11/site-packages/pydantic/v1/fields.py:1010: RuntimeWarning: coroutine 'BaseQueryEngine.aquery' was never awaited\n",
      "  for k, v_ in v_iter.items():\n",
      "RuntimeWarning: Enable tracemalloc to get the object allocation traceback\n"
     ]
    }
   ],
   "source": [
    "from llama_index.core import VectorStoreIndex, SimpleDirectoryReader\n",
    "\n",
    "documents = SimpleDirectoryReader(\"data\").load_data()\n",
    "index = VectorStoreIndex.from_documents(documents)"
   ]
  },
  {
   "cell_type": "code",
   "execution_count": 17,
   "metadata": {},
   "outputs": [],
   "source": [
    "streaming_qe = index.as_query_engine(streaming=True)"
   ]
  },
  {
   "cell_type": "code",
   "execution_count": 18,
   "metadata": {},
   "outputs": [],
   "source": [
    "streaming_response = streaming_qe.query(\n",
    "    \"What did the author do growing up?\",\n",
    ")"
   ]
  },
  {
   "cell_type": "code",
   "execution_count": 19,
   "metadata": {},
   "outputs": [
    {
     "name": "stdout",
     "output_type": "stream",
     "text": [
      "Douglas Adams, the author of \"The Hitchhiker's Guide to the Galaxy,\" grew up in Cambridge, England. He was born in 1952 and attended Brentwood School, where he was known for his wit and humor.\n",
      "\n",
      "As a child, Adams was interested in science fiction and comedy, and he was a fan of the radio comedy show \"The Goon Show.\" He also enjoyed playing the piano and writing short stories.\n",
      "\n",
      "After leaving school, Adams attended St. John's College, Cambridge, where he studied English literature. During his time at university, he became involved in the Cambridge Footlights, a student comedy group, and began writing and performing in sketches and revues.\n",
      "\n",
      "After graduating from Cambridge, Adams worked as a radio scriptwriter and performer, and he continued to write and perform comedy. He also wrote for television, including for the popular comedy show \"Monty Python's Flying Circus.\"\n",
      "\n",
      "In the late 1970s, Adams began working on \"The Hitchhiker's Guide to the Galaxy,\" which was originally a radio comedy series. The series was a huge success and was later adapted into a series of novels, as well as a television series, a movie, and various other media.\n",
      "\n",
      "Throughout his life, Adams continued to write and perform comedy, and he was known for his unique blend of science fiction, humor, and social commentary. He passed away in 2001 at the age of 49."
     ]
    }
   ],
   "source": [
    "streaming_response.print_response_stream()"
   ]
  }
 ],
 "metadata": {
  "kernelspec": {
   "display_name": "nvidia-llama-index-playground-connector",
   "language": "python",
   "name": "python3"
  },
  "language_info": {
   "codemirror_mode": {
    "name": "ipython",
    "version": 3
   },
   "file_extension": ".py",
   "mimetype": "text/x-python",
   "name": "python",
   "nbconvert_exporter": "python",
   "pygments_lexer": "ipython3",
   "version": "3.11.8"
  }
 },
 "nbformat": 4,
 "nbformat_minor": 2
}
